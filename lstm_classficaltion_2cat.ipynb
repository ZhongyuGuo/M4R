{
  "nbformat": 4,
  "nbformat_minor": 0,
  "metadata": {
    "accelerator": "GPU",
    "colab": {
      "name": "lstm_classfivaltion_2cat.ipynb",
      "provenance": [],
      "collapsed_sections": [],
      "authorship_tag": "ABX9TyMljpt5ggm6uJZ6TTRtVxjC",
      "include_colab_link": true
    },
    "kernelspec": {
      "display_name": "Python 3",
      "name": "python3"
    }
  },
  "cells": [
    {
      "cell_type": "markdown",
      "metadata": {
        "id": "view-in-github",
        "colab_type": "text"
      },
      "source": [
        "<a href=\"https://colab.research.google.com/github/ZhongyuGuo/M4R/blob/main/lstm_classficaltion_2cat.ipynb\" target=\"_parent\"><img src=\"https://colab.research.google.com/assets/colab-badge.svg\" alt=\"Open In Colab\"/></a>"
      ]
    },
    {
      "cell_type": "code",
      "metadata": {
        "id": "yXNbDHdsc2f3"
      },
      "source": [
        "import tensorflow as tf\n",
        "import numpy as np\n",
        "import pandas as pd\n",
        "from keras.preprocessing.text import Tokenizer\n",
        "import keras\n",
        "import random\n",
        "import re"
      ],
      "execution_count": 1,
      "outputs": []
    },
    {
      "cell_type": "code",
      "metadata": {
        "colab": {
          "base_uri": "https://localhost:8080/"
        },
        "id": "Sm4yNcvfc-f4",
        "outputId": "9013571c-e0dc-40af-beec-7df700ee5ecf"
      },
      "source": [
        "from google.colab import drive\n",
        "drive.mount(\"/content/drive\")\n",
        "df=pd.read_csv(\"/content/drive/My Drive/M4R/papers2019_200000.csv\")"
      ],
      "execution_count": 2,
      "outputs": [
        {
          "output_type": "stream",
          "text": [
            "Drive already mounted at /content/drive; to attempt to forcibly remount, call drive.mount(\"/content/drive\", force_remount=True).\n"
          ],
          "name": "stdout"
        }
      ]
    },
    {
      "cell_type": "code",
      "metadata": {
        "id": "LIWYn7om2HMC"
      },
      "source": [
        "# List of categories\n",
        "catlist=['math','cs','quant-ph','hep-ex','hep-th','astro-ph','nucl-ex','nucl-th']"
      ],
      "execution_count": 3,
      "outputs": []
    },
    {
      "cell_type": "code",
      "metadata": {
        "id": "wwHvYNTWQvjK"
      },
      "source": [
        "# Categories to classify\n",
        "cat1=catlist[6]\n",
        "cat2=catlist[7]"
      ],
      "execution_count": 4,
      "outputs": []
    },
    {
      "cell_type": "code",
      "metadata": {
        "id": "GIoQgW_eeIs8"
      },
      "source": [
        "# Obtain corresponding abstarcts\n",
        "df1=df[df['categories']==cat1][0:1500].reset_index(drop=True)\n",
        "df2=df[df['categories']==cat2][0:1500].reset_index(drop=True)\n",
        "text=df1.append(df2).reset_index(drop=True)"
      ],
      "execution_count": 5,
      "outputs": []
    },
    {
      "cell_type": "code",
      "metadata": {
        "id": "rfsuiOZUgM4N"
      },
      "source": [
        "RANDOM_STATE = 50\n",
        "EPOCHS =15\n",
        "BATCH_SIZE = 256\n",
        "TRAINING_LENGTH = 50\n",
        "TRAIN_FRACTION = 0.7\n",
        "LSTM_CELLS = 64\n",
        "VERBOSE = 1\n",
        "SAVE_MODEL = True"
      ],
      "execution_count": 6,
      "outputs": []
    },
    {
      "cell_type": "code",
      "metadata": {
        "id": "vVrzzl8LfLzi"
      },
      "source": [
        "def format_text(text):\n",
        "    \"\"\"Add spaces around punctuation and remove references to images/citations.\"\"\"\n",
        "\n",
        "    # Add spaces around punctuation\n",
        "    text = re.sub(r'(?<=[^\\s0-9])(?=[.,;?])', r' ', text)\n",
        "\n",
        "    # Remove references to figures\n",
        "    text = re.sub(r'\\((\\d+)\\)', r'', text)\n",
        "\n",
        "\n",
        "    # Remove meaningless words\n",
        "    text = re.sub(' the ',' ',text)\n",
        "    text = re.sub(' of ',' ',text)\n",
        "    text = re.sub(' and ',' ',text)\n",
        "    text = re.sub(' a ',' ',text)\n",
        "    text = re.sub(' in ',' ',text)\n",
        "    text = re.sub(' to ',' ',text)\n",
        "    text = re.sub(' with ',' ',text)\n",
        "    text = re.sub(' for ',' ',text)\n",
        "    text = re.sub(' by ',' ',text)\n",
        "    text = re.sub(' on ',' ',text)\n",
        "    text = re.sub(' as ',' ',text)\n",
        "    text = re.sub(' an ',' ',text)\n",
        "    text = re.sub(' at ',' ',text)\n",
        "    text = re.sub(' we ',' ',text)\n",
        "    text = re.sub(' is ',' ',text)\n",
        "    text = re.sub(' this ',' ',text)\n",
        "    text = re.sub(' are ',' ',text)\n",
        "    text = re.sub(' which ',' ',text)\n",
        "    text = re.sub(' be ',' ',text)\n",
        "    text = re.sub(' it ',' ',text)\n",
        "    text = re.sub(' that ',' ',text)\n",
        "    text = re.sub(' from ',' ',text)\n",
        "    text = re.sub(' can ',' ',text)\n",
        "    text = re.sub(' these ',' ',text)\n",
        "    text = re.sub(' our ',' ',text)\n",
        "    text = re.sub(' has ',' ',text)\n",
        "    text = re.sub(' have ',' ',text)\n",
        "    text = re.sub('.We ','.',text)\n",
        "    text = re.sub('.That ','.',text)\n",
        "    text = re.sub('.The ','.',text)\n",
        "    text = re.sub('.From ','.',text)\n",
        "    text = re.sub('.Our ','.',text)\n",
        "    text = re.sub('.In ','.',text)\n",
        "    text = re.sub('.These ','.',text)\n",
        "    text = re.sub('.This ','.',text)\n",
        "    text = re.sub(',that ',',',text)\n",
        "\n",
        "    # Remove double spaces\n",
        "    text = re.sub(r'\\s\\s', ' ', text)\n",
        "    \n",
        "    return text"
      ],
      "execution_count": 7,
      "outputs": []
    },
    {
      "cell_type": "code",
      "metadata": {
        "id": "xJOim_TefQNf"
      },
      "source": [
        "formatted = []\n",
        "\n",
        "# Iterate through all the original abstracts\n",
        "for a in text['abstracts']:\n",
        "    formatted.append(format_text(a))"
      ],
      "execution_count": 8,
      "outputs": []
    },
    {
      "cell_type": "code",
      "metadata": {
        "id": "ux4RWD5afT4Y"
      },
      "source": [
        "def make_sequences(texts,training_length=50,lower=True,\n",
        "                   filters='!\"#$%&()*+,-./:;<=>?@[\\\\]^_`{|}~\\t\\n'):\n",
        "    \"\"\"Turn a set of texts into sequences of integers\"\"\"\n",
        "\n",
        "    # Create the tokenizer object and train on texts\n",
        "    tokenizer = Tokenizer(lower=lower, filters=filters)\n",
        "    tokenizer.fit_on_texts(texts)\n",
        "\n",
        "    # Create look-up dictionaries and reverse look-ups\n",
        "    word_idx = tokenizer.word_index\n",
        "    idx_word = tokenizer.index_word\n",
        "    num_words = len(word_idx) + 1\n",
        "    word_counts = tokenizer.word_counts\n",
        "\n",
        "    print(f'There are {num_words} unique words.')\n",
        "\n",
        "    # Convert text to sequences of integers\n",
        "    features = tokenizer.texts_to_sequences(texts)\n",
        "\n",
        "    categories=list(set(text['categories'].values))\n",
        "    # Make labels\n",
        "    labels=np.zeros((len(text),len(categories)))\n",
        "    for i in range(len(text)):\n",
        "      ind = categories.index(text.iloc[i,1])\n",
        "      labels[i,ind]=1\n",
        "    return word_idx, idx_word, num_words, word_counts, features,labels\n"
      ],
      "execution_count": 9,
      "outputs": []
    },
    {
      "cell_type": "code",
      "metadata": {
        "colab": {
          "base_uri": "https://localhost:8080/"
        },
        "id": "5n2ArgLDf3qa",
        "outputId": "6772c5c0-cb53-428a-e7d8-51161e84c9a5"
      },
      "source": [
        "TRAINING_LENGTH = 50\n",
        "filters = '.,!\"#$%&()*+/:<=>@[\\\\]^_`{|}~\\t\\n'\n",
        "word_idx, idx_word, num_words, word_counts,features,labels = make_sequences(\n",
        "    formatted, TRAINING_LENGTH, lower=True, filters=filters)"
      ],
      "execution_count": 10,
      "outputs": [
        {
          "output_type": "stream",
          "text": [
            "There are 14260 unique words.\n"
          ],
          "name": "stdout"
        }
      ]
    },
    {
      "cell_type": "code",
      "metadata": {
        "id": "vZapiM5oFLCY"
      },
      "source": [
        "#Make all sequences to same length\n",
        "pad = len(max(features, key=len))\n",
        "features=[i + [0]*(pad-len(i)) for i in features]\n",
        "# Reshape to an array\n",
        "features1=np.array(features)"
      ],
      "execution_count": 11,
      "outputs": []
    },
    {
      "cell_type": "code",
      "metadata": {
        "id": "ebHYFmyOw5SP"
      },
      "source": [
        "# Define Training and Test sets\n",
        "X_input=np.zeros([2000,len(features[0])])\n",
        "X_input[0:1000,:]=features1[0:1000,:]\n",
        "X_input[1000:2000]=features1[1500:2500,:]\n",
        "X_test=np.zeros([1000,len(features[0])])\n",
        "X_test[0:500,:]=features1[1000:1500,:]\n",
        "X_test[500:1000]=features1[2500:3000,:]\n",
        "\n",
        "y_input=np.zeros([2000,2])\n",
        "y_input[0:1000,:]=labels[0:1000,:]\n",
        "y_input[1000:2000]=labels[1500:2500]\n",
        "y_test=np.zeros([1000,2])\n",
        "y_test[0:500,:]=labels[1000:1500,:]\n",
        "y_test[500:1000]=labels[2500:3000,:]"
      ],
      "execution_count": 12,
      "outputs": []
    },
    {
      "cell_type": "code",
      "metadata": {
        "id": "cFianImasgNl"
      },
      "source": [
        "from sklearn.utils import shuffle\n",
        "\n",
        "\n",
        "def create_train_valid(features,\n",
        "                       labels,\n",
        "                       train_fraction=TRAIN_FRACTION):\n",
        "    # Create training and validation features and labels\n",
        "\n",
        "    # Randomly shuffle features and labels\n",
        "    features, labels = shuffle(features, labels, random_state=RANDOM_STATE)\n",
        "\n",
        "    # Decide on number of samples for training\n",
        "    train_end = int(train_fraction * len(labels))\n",
        "\n",
        "    train_features = np.array(features[:train_end])\n",
        "    valid_features = np.array(features[train_end:])\n",
        "\n",
        "    train_labels = labels[:train_end]\n",
        "    valid_labels = labels[train_end:]\n",
        "\n",
        "    # Convert to arrays\n",
        "    X_train, X_valid = np.array(train_features), np.array(valid_features)\n",
        "    y_train, y_valid = np.array(train_labels), np.array(valid_labels)\n",
        "\n",
        "    # Memory management\n",
        "    import gc\n",
        "    gc.enable()\n",
        "    del features, train_features, labels, valid_features, train_labels, valid_labels\n",
        "    gc.collect()\n",
        "\n",
        "    return X_train, X_valid, y_train, y_valid"
      ],
      "execution_count": 13,
      "outputs": []
    },
    {
      "cell_type": "code",
      "metadata": {
        "id": "r0peh1DWtbYH"
      },
      "source": [
        "X_train, X_valid, y_train, y_valid = create_train_valid(X_input, y_input)"
      ],
      "execution_count": 14,
      "outputs": []
    },
    {
      "cell_type": "code",
      "metadata": {
        "id": "2lUEtBKFuJJq"
      },
      "source": [
        "# Load in GloVe\n",
        "glove=np.loadtxt('/content/drive/My Drive/M4R/glove.6B.100d.txt',dtype='str', comments=None)"
      ],
      "execution_count": 15,
      "outputs": []
    },
    {
      "cell_type": "code",
      "metadata": {
        "id": "Xpp0cJNyuOOb"
      },
      "source": [
        "# Split words from vector representation\n",
        "vectors = glove[:, 1:].astype('float')\n",
        "words = glove[:, 0]\n",
        "del glove"
      ],
      "execution_count": 16,
      "outputs": []
    },
    {
      "cell_type": "code",
      "metadata": {
        "id": "0I90tWTduVVF",
        "colab": {
          "base_uri": "https://localhost:8080/"
        },
        "outputId": "453e3cd6-9174-4537-fcfd-f62387c7519a"
      },
      "source": [
        "word_lookup = {word: vector for word, vector in zip(words, vectors)}\n",
        "\n",
        "embedding_matrix = np.zeros((num_words, vectors.shape[1]))\n",
        "\n",
        "not_found = 0\n",
        "\n",
        "for i, word in enumerate(word_idx.keys()):\n",
        "    # Look up the word embedding\n",
        "    vector = word_lookup.get(word, None)\n",
        "\n",
        "    # Record in matrix\n",
        "    if vector is not None:\n",
        "        embedding_matrix[i + 1, :] = vector\n",
        "    else:\n",
        "        not_found += 1\n",
        "\n",
        "print(f'There were {not_found} words without pre-trained embeddings.')"
      ],
      "execution_count": 17,
      "outputs": [
        {
          "output_type": "stream",
          "text": [
            "There were 5179 words without pre-trained embeddings.\n"
          ],
          "name": "stdout"
        }
      ]
    },
    {
      "cell_type": "code",
      "metadata": {
        "id": "HLvzmm1cuY3D",
        "colab": {
          "base_uri": "https://localhost:8080/"
        },
        "outputId": "04a71805-08d2-4180-df4e-5a4e1f250d01"
      },
      "source": [
        "import gc\n",
        "gc.enable()\n",
        "del vectors\n",
        "gc.collect()"
      ],
      "execution_count": 18,
      "outputs": [
        {
          "output_type": "execute_result",
          "data": {
            "text/plain": [
              "153"
            ]
          },
          "metadata": {
            "tags": []
          },
          "execution_count": 18
        }
      ]
    },
    {
      "cell_type": "code",
      "metadata": {
        "id": "bqkaoBQrucAV",
        "colab": {
          "base_uri": "https://localhost:8080/"
        },
        "outputId": "9d478c40-b7a6-4e98-e9f4-8250dd7f0513"
      },
      "source": [
        "# Normalize and convert nan to 0\n",
        "embedding_matrix = embedding_matrix / \\\n",
        "    np.linalg.norm(embedding_matrix, axis=1).reshape((-1, 1))\n",
        "embedding_matrix = np.nan_to_num(embedding_matrix)"
      ],
      "execution_count": 19,
      "outputs": [
        {
          "output_type": "stream",
          "text": [
            "/usr/local/lib/python3.7/dist-packages/ipykernel_launcher.py:2: RuntimeWarning: invalid value encountered in true_divide\n",
            "  \n"
          ],
          "name": "stderr"
        }
      ]
    },
    {
      "cell_type": "code",
      "metadata": {
        "id": "G3dn_LTQAEiz"
      },
      "source": [
        "from keras.models import Sequential, load_model\n",
        "from keras.layers import LSTM, Dense, Dropout, Embedding, Masking, Bidirectional\n",
        "from keras.optimizers import Adam"
      ],
      "execution_count": 20,
      "outputs": []
    },
    {
      "cell_type": "code",
      "metadata": {
        "id": "v01BrdD2_As2",
        "colab": {
          "base_uri": "https://localhost:8080/"
        },
        "outputId": "0d7dbf05-70dc-49be-c2c0-5bca0f792a93"
      },
      "source": [
        "def make_word_level_model(embedding_matrix,\n",
        "                          lstm_cells=64,\n",
        "                          trainable=False,\n",
        "                          lstm_layers=1,\n",
        "                          bi_direc=False):\n",
        "    \"\"\"Make a word level recurrent neural network with option for pretrained embeddings\n",
        "       and varying numbers of LSTM cell layers.\"\"\"\n",
        "\n",
        "    model = Sequential()\n",
        "\n",
        "    # Map words to an embedding\n",
        "    if not trainable:\n",
        "        model.add(\n",
        "            Embedding(\n",
        "                input_dim=num_words,\n",
        "                output_dim=embedding_matrix.shape[1],\n",
        "                weights=[embedding_matrix],\n",
        "                trainable=False,\n",
        "                mask_zero=True))\n",
        "        model.add(Masking())\n",
        "    else:\n",
        "        model.add(\n",
        "            Embedding(\n",
        "                input_dim=num_words,\n",
        "                output_dim=embedding_matrix.shape[1],\n",
        "                weights=[embedding_matrix],\n",
        "                trainable=True))\n",
        "\n",
        "    # If want to add multiple LSTM layers\n",
        "    if lstm_layers > 1:\n",
        "        for i in range(lstm_layers - 1):\n",
        "            model.add(\n",
        "                LSTM(\n",
        "                    lstm_cells,\n",
        "                    return_sequences=True,\n",
        "                    dropout=0.1,\n",
        "                    recurrent_dropout=0.1))\n",
        "\n",
        "    # Add final LSTM cell layer\n",
        "    model.add(\n",
        "        LSTM(\n",
        "            lstm_cells,\n",
        "            return_sequences=False,\n",
        "            dropout=0.1,\n",
        "            recurrent_dropout=0.1))\n",
        "    model.add(Dense(128, activation='relu'))\n",
        "    # Dropout for regularization\n",
        "    model.add(Dropout(0.5))\n",
        "\n",
        "    # Output layer\n",
        "    model.add(Dense(len(labels[0]), activation='softmax'))\n",
        "\n",
        "    # Compile the model\n",
        "    model.compile(\n",
        "        optimizer='adam',\n",
        "        loss='categorical_crossentropy',\n",
        "        metrics=['accuracy'])\n",
        "    return model\n",
        "\n",
        "\n",
        "model = make_word_level_model(\n",
        "    embedding_matrix=embedding_matrix,\n",
        "    lstm_cells=LSTM_CELLS,\n",
        "    trainable=False,\n",
        "    lstm_layers=1,\n",
        "    bi_direc=False)\n",
        "model.summary()"
      ],
      "execution_count": 21,
      "outputs": [
        {
          "output_type": "stream",
          "text": [
            "WARNING:tensorflow:Layer lstm will not use cuDNN kernels since it doesn't meet the criteria. It will use a generic GPU kernel as fallback when running on GPU.\n",
            "Model: \"sequential\"\n",
            "_________________________________________________________________\n",
            "Layer (type)                 Output Shape              Param #   \n",
            "=================================================================\n",
            "embedding (Embedding)        (None, None, 100)         1426000   \n",
            "_________________________________________________________________\n",
            "masking (Masking)            (None, None, 100)         0         \n",
            "_________________________________________________________________\n",
            "lstm (LSTM)                  (None, 64)                42240     \n",
            "_________________________________________________________________\n",
            "dense (Dense)                (None, 128)               8320      \n",
            "_________________________________________________________________\n",
            "dropout (Dropout)            (None, 128)               0         \n",
            "_________________________________________________________________\n",
            "dense_1 (Dense)              (None, 2)                 258       \n",
            "=================================================================\n",
            "Total params: 1,476,818\n",
            "Trainable params: 50,818\n",
            "Non-trainable params: 1,426,000\n",
            "_________________________________________________________________\n"
          ],
          "name": "stdout"
        }
      ]
    },
    {
      "cell_type": "code",
      "metadata": {
        "id": "DFNeVWZRAS4C"
      },
      "source": [
        "from IPython.display import Image\n",
        "model_name = 'pre-trained-rnn'\n",
        "model_dir = '../models/'\n",
        "# Plot model is no is functioning due to updeates of Keras\n",
        "#plot_model(model,show_shapes=True)"
      ],
      "execution_count": 22,
      "outputs": []
    },
    {
      "cell_type": "code",
      "metadata": {
        "id": "lkhXSSeDAWgy"
      },
      "source": [
        "from keras.callbacks import EarlyStopping, ModelCheckpoint\n",
        "# Implement early stopping and save model\n",
        "def make_callbacks(model_name, save=SAVE_MODEL):\n",
        "    \"\"\"Make list of callbacks for training\"\"\"\n",
        "    callbacks = [EarlyStopping(monitor='val_loss', patience=5)]\n",
        "\n",
        "    if save:\n",
        "        callbacks.append(\n",
        "            ModelCheckpoint(\n",
        "                f'/content/drive/My Drive/M4R/123.h5',\n",
        "                save_best_only=True,\n",
        "                save_weights_only=False))\n",
        "    return callbacks\n",
        "\n",
        "\n",
        "callbacks = make_callbacks(model_name,SAVE_MODEL)"
      ],
      "execution_count": 23,
      "outputs": []
    },
    {
      "cell_type": "code",
      "metadata": {
        "id": "QsZk4oM_AY5R",
        "colab": {
          "base_uri": "https://localhost:8080/"
        },
        "outputId": "5c3f9c2e-45f4-45ff-bfaa-797217eda788"
      },
      "source": [
        "history = model.fit(\n",
        "    X_train,\n",
        "    y_train,\n",
        "    epochs=EPOCHS,\n",
        "    batch_size=BATCH_SIZE,\n",
        "    verbose=VERBOSE,\n",
        "    callbacks=callbacks,\n",
        "    validation_data=(X_valid, y_valid))"
      ],
      "execution_count": 24,
      "outputs": [
        {
          "output_type": "stream",
          "text": [
            "Epoch 1/15\n",
            "6/6 [==============================] - 40s 2s/step - loss: 0.6922 - accuracy: 0.5068 - val_loss: 0.6864 - val_accuracy: 0.5167\n",
            "Epoch 2/15\n",
            "6/6 [==============================] - 9s 2s/step - loss: 0.6845 - accuracy: 0.5837 - val_loss: 0.6728 - val_accuracy: 0.6700\n",
            "Epoch 3/15\n",
            "6/6 [==============================] - 9s 2s/step - loss: 0.6654 - accuracy: 0.6467 - val_loss: 0.6236 - val_accuracy: 0.6650\n",
            "Epoch 4/15\n",
            "6/6 [==============================] - 9s 2s/step - loss: 0.5828 - accuracy: 0.7241 - val_loss: 0.4587 - val_accuracy: 0.8167\n",
            "Epoch 5/15\n",
            "6/6 [==============================] - 9s 2s/step - loss: 0.5269 - accuracy: 0.7850 - val_loss: 0.4429 - val_accuracy: 0.8067\n",
            "Epoch 6/15\n",
            "6/6 [==============================] - 10s 2s/step - loss: 0.4635 - accuracy: 0.8105 - val_loss: 0.4235 - val_accuracy: 0.8417\n",
            "Epoch 7/15\n",
            "6/6 [==============================] - 9s 2s/step - loss: 0.4389 - accuracy: 0.8205 - val_loss: 0.3878 - val_accuracy: 0.8450\n",
            "Epoch 8/15\n",
            "6/6 [==============================] - 9s 2s/step - loss: 0.4184 - accuracy: 0.8308 - val_loss: 0.3762 - val_accuracy: 0.8517\n",
            "Epoch 9/15\n",
            "6/6 [==============================] - 9s 2s/step - loss: 0.3877 - accuracy: 0.8466 - val_loss: 0.3620 - val_accuracy: 0.8567\n",
            "Epoch 10/15\n",
            "6/6 [==============================] - 9s 2s/step - loss: 0.3926 - accuracy: 0.8410 - val_loss: 0.3498 - val_accuracy: 0.8567\n",
            "Epoch 11/15\n",
            "6/6 [==============================] - 9s 2s/step - loss: 0.3949 - accuracy: 0.8425 - val_loss: 0.3483 - val_accuracy: 0.8517\n",
            "Epoch 12/15\n",
            "6/6 [==============================] - 9s 2s/step - loss: 0.3767 - accuracy: 0.8492 - val_loss: 0.3457 - val_accuracy: 0.8600\n",
            "Epoch 13/15\n",
            "6/6 [==============================] - 9s 2s/step - loss: 0.3710 - accuracy: 0.8539 - val_loss: 0.3219 - val_accuracy: 0.8717\n",
            "Epoch 14/15\n",
            "6/6 [==============================] - 9s 2s/step - loss: 0.3683 - accuracy: 0.8465 - val_loss: 0.3220 - val_accuracy: 0.8717\n",
            "Epoch 15/15\n",
            "6/6 [==============================] - 9s 2s/step - loss: 0.3496 - accuracy: 0.8596 - val_loss: 0.3248 - val_accuracy: 0.8683\n"
          ],
          "name": "stdout"
        }
      ]
    },
    {
      "cell_type": "code",
      "metadata": {
        "id": "4oK8UN_AenvH"
      },
      "source": [
        "# Load and evaluate model\n",
        "def load_and_evaluate(model_name, return_model=False):\n",
        "    \"\"\"Load in a trained model and evaluate with log loss and accuracy\"\"\"\n",
        "\n",
        "    model = load_model(f'/content/drive/My Drive/M4R/123.h5')\n",
        "\n",
        "    loss, acc = model.evaluate(X_valid, y_valid, batch_size=BATCH_SIZE, verbose=1)\n",
        "    print('Validation Loss: {}'.format(loss))\n",
        "    print('Validation Accuracy: {}'.format(acc*100))\n",
        "\n",
        "    test_loss, test_acc = model.evaluate(X_test, y_test, batch_size=BATCH_SIZE, verbose=1)\n",
        "    print('Test Loss: {}'.format(test_loss))\n",
        "    print('Test Accuracy: {}'.format(test_acc*100))\n",
        "\n",
        "    if return_model:\n",
        "        return model"
      ],
      "execution_count": 25,
      "outputs": []
    },
    {
      "cell_type": "code",
      "metadata": {
        "id": "oBUUiTnIe4ag",
        "colab": {
          "base_uri": "https://localhost:8080/"
        },
        "outputId": "4e6f553d-e14c-47a2-f4ea-42164712d5f1"
      },
      "source": [
        "model = load_and_evaluate(model_name, return_model=True)"
      ],
      "execution_count": 26,
      "outputs": [
        {
          "output_type": "stream",
          "text": [
            "WARNING:tensorflow:Layer lstm will not use cuDNN kernels since it doesn't meet the criteria. It will use a generic GPU kernel as fallback when running on GPU.\n",
            "3/3 [==============================] - 2s 130ms/step - loss: 0.3219 - accuracy: 0.8717\n",
            "Validation Loss: 0.3218662440776825\n",
            "Validation Accuracy: 87.1666669845581\n",
            "4/4 [==============================] - 1s 123ms/step - loss: 0.3872 - accuracy: 0.8430\n",
            "Test Loss: 0.38716602325439453\n",
            "Test Accuracy: 84.29999947547913\n"
          ],
          "name": "stdout"
        }
      ]
    },
    {
      "cell_type": "code",
      "metadata": {
        "id": "6X4KyqU2gZt0"
      },
      "source": [
        "import matplotlib.pyplot as plt\n",
        "\n",
        "def plot_graphs(history, metric):\n",
        "  plt.plot(history.history[metric])\n",
        "  plt.plot(history.history['val_'+metric], '')\n",
        "  plt.xlabel(\"Epochs\")\n",
        "  plt.ylabel(metric)\n",
        "  plt.legend([metric, 'val_'+metric])"
      ],
      "execution_count": 27,
      "outputs": []
    },
    {
      "cell_type": "code",
      "metadata": {
        "id": "fxo86BnzgYdI",
        "colab": {
          "base_uri": "https://localhost:8080/",
          "height": 518
        },
        "outputId": "7f064fdb-e965-441e-cf9d-465e23ea3070"
      },
      "source": [
        "plt.figure(figsize=(16,8))\n",
        "plt.subplot(1,2,1)\n",
        "plot_graphs(history, 'accuracy')\n",
        "plt.ylim(None,1)\n",
        "plt.subplot(1,2,2)\n",
        "plot_graphs(history, 'loss')\n",
        "plt.ylim(0,None)"
      ],
      "execution_count": 28,
      "outputs": [
        {
          "output_type": "execute_result",
          "data": {
            "text/plain": [
              "(0.0, 0.7105939641594887)"
            ]
          },
          "metadata": {
            "tags": []
          },
          "execution_count": 28
        },
        {
          "output_type": "display_data",
          "data": {
            "image/png": "[encoded data removed]",
            "text/plain": [
              "<Figure size 1152x576 with 2 Axes>"
            ]
          },
          "metadata": {
            "tags": [],
            "needs_background": "light"
          }
        }
      ]
    },
    {
      "cell_type": "code",
      "metadata": {
        "id": "dV8YVJ3l9Vp3",
        "colab": {
          "base_uri": "https://localhost:8080/"
        },
        "outputId": "01f20d94-12e8-4401-ecbe-2f90b3e1fb9b"
      },
      "source": [
        "# Find probability matrix of text data\n",
        "prob=model.predict(X_test)\n",
        "diff=[]\n",
        "# Find the abstarct that has the closest probabilities\n",
        "for i in range(len(prob)):\n",
        "  diff.append(np.abs(prob[i,0]-prob[i,1]))\n",
        "ind=diff.index(min(diff))\n",
        "if ind<=500:\n",
        "  print(df1.iloc[1000+ind,:])\n",
        "  print(df1.iloc[1000+ind,:]['abstracts'])\n",
        "if ind>=500:\n",
        "  print(df1.iloc[1000+ind-500,:])\n",
        "  print(df2.iloc[1000+ind-500,:]['abstracts'])"
      ],
      "execution_count": 29,
      "outputs": [
        {
          "output_type": "stream",
          "text": [
            "Unnamed: 0                                               173146\n",
            "categories                                              nucl-ex\n",
            "abstracts       PHENIX has measured direct photons in p+p an...\n",
            "year                                                       2019\n",
            "Name: 1274, dtype: object\n",
            "  Excited states in the deformed nucleus $^{158}$Gd have been studied in the (p,t) reaction by using the Munich Tandem and Q3D spectrograph. 30 new excited 0$^+$ states (three tentative) have been assigned up to the 4.3 MeV excitation energy. The total number of 34 excited 0$^+$ states (four tentatively assigned) in a deformed nucleus, close to a complete level scheme, offers a new opportunity to test nuclear models and obtain more information on the structure of these special states. \n"
          ],
          "name": "stdout"
        }
      ]
    },
    {
      "cell_type": "code",
      "metadata": {
        "colab": {
          "base_uri": "https://localhost:8080/"
        },
        "id": "_ZEE_OqdEDRV",
        "outputId": "cf9452c5-eb80-45fb-91d6-c19dedbf1ac3"
      },
      "source": [
        "# Show the probabilities\n",
        "print(prob[ind,:])"
      ],
      "execution_count": 30,
      "outputs": [
        {
          "output_type": "stream",
          "text": [
            "[0.5034003  0.49659967]\n"
          ],
          "name": "stdout"
        }
      ]
    }
  ]
}