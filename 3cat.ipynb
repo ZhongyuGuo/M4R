{
  "nbformat": 4,
  "nbformat_minor": 0,
  "metadata": {
    "colab": {
      "name": "Copy of Copy of 5cat.ipynb",
      "provenance": [],
      "authorship_tag": "ABX9TyPpOjtw9+kB1TzdUNdyzNMv",
      "include_colab_link": true
    },
    "kernelspec": {
      "name": "python3",
      "display_name": "Python 3"
    }
  },
  "cells": [
    {
      "cell_type": "markdown",
      "metadata": {
        "id": "view-in-github",
        "colab_type": "text"
      },
      "source": [
        "<a href=\"https://colab.research.google.com/github/ZhongyuGuo/M4R/blob/main/3cat.ipynb\" target=\"_parent\"><img src=\"https://colab.research.google.com/assets/colab-badge.svg\" alt=\"Open In Colab\"/></a>"
      ]
    },
    {
      "cell_type": "code",
      "metadata": {
        "id": "yXNbDHdsc2f3"
      },
      "source": [
        "from __future__ import print_function\n",
        "import argparse\n",
        "import pprint\n",
        "import gensim\n",
        "#from glove import Glove\n",
        "#from glove import Corpus\n",
        "import tensorflow as tf\n",
        "import numpy as np\n",
        "import os\n",
        "import time\n",
        "import pandas as pd\n",
        "from keras.preprocessing.text import Tokenizer\n",
        "import keras\n",
        "import re\n",
        "import random\n",
        "import torch"
      ],
      "execution_count": 1,
      "outputs": []
    },
    {
      "cell_type": "code",
      "metadata": {
        "colab": {
          "base_uri": "https://localhost:8080/"
        },
        "id": "Sm4yNcvfc-f4",
        "outputId": "2c689f09-c630-4377-f6ac-f2a9e0f7bf82"
      },
      "source": [
        "from google.colab import drive\n",
        "drive.mount(\"/content/drive\")\n",
        "df=pd.read_csv(\"/content/drive/My Drive/M4R/papers2019_200000.csv\")"
      ],
      "execution_count": 2,
      "outputs": [
        {
          "output_type": "stream",
          "text": [
            "Drive already mounted at /content/drive; to attempt to forcibly remount, call drive.mount(\"/content/drive\", force_remount=True).\n"
          ],
          "name": "stdout"
        }
      ]
    },
    {
      "cell_type": "code",
      "metadata": {
        "id": "LIWYn7om2HMC"
      },
      "source": [
        "catlist=['math','cs','quant-ph','hep-ex','hep-th','astro-ph','nucl-ex','nucl-th']"
      ],
      "execution_count": 3,
      "outputs": []
    },
    {
      "cell_type": "code",
      "metadata": {
        "id": "wwHvYNTWQvjK"
      },
      "source": [
        "cat1=catlist[0]\n",
        "cat2=catlist[2]\n",
        "cat3=catlist[4]\n",
        "#cat4=catlist[6]\n",
        "#cat5=catlist[7]"
      ],
      "execution_count": 4,
      "outputs": []
    },
    {
      "cell_type": "code",
      "metadata": {
        "id": "GIoQgW_eeIs8"
      },
      "source": [
        "df1=df[df['categories']==cat1][0:1500].reset_index(drop=True)\n",
        "df2=df[df['categories']==cat2][0:1500].reset_index(drop=True)\n",
        "df3=df[df['categories']==cat3][0:1500].reset_index(drop=True)\n",
        "#df4=df[df['categories']==cat4][0:1500].reset_index(drop=True)\n",
        "#df5=df[df['categories']==cat5][0:1500].reset_index(drop=True)"
      ],
      "execution_count": 5,
      "outputs": []
    },
    {
      "cell_type": "code",
      "metadata": {
        "id": "2IgHJuGrfwm_"
      },
      "source": [
        "text=df1.append(df2).reset_index(drop=True)\n",
        "text=text.append(df3).reset_index(drop=True)\n",
        "#text=text.append(df4).reset_index(drop=True)\n",
        "#text=text.append(df5).reset_index(drop=True)"
      ],
      "execution_count": 6,
      "outputs": []
    },
    {
      "cell_type": "code",
      "metadata": {
        "id": "rfsuiOZUgM4N"
      },
      "source": [
        "RANDOM_STATE = 50\n",
        "EPOCHS =15\n",
        "BATCH_SIZE = 256\n",
        "TRAINING_LENGTH = 50\n",
        "TRAIN_FRACTION = 0.7\n",
        "LSTM_CELLS = 64\n",
        "VERBOSE = 1\n",
        "SAVE_MODEL = True"
      ],
      "execution_count": 7,
      "outputs": []
    },
    {
      "cell_type": "code",
      "metadata": {
        "id": "vVrzzl8LfLzi"
      },
      "source": [
        "def format_text(text):\n",
        "    \"\"\"Add spaces around punctuation and remove references to images/citations.\"\"\"\n",
        "\n",
        "    # Add spaces around punctuation\n",
        "    text = re.sub(r'(?<=[^\\s0-9])(?=[.,;?])', r' ', text)\n",
        "\n",
        "    # Remove references to figures\n",
        "    text = re.sub(r'\\((\\d+)\\)', r'', text)\n",
        "\n",
        "    text=re.sub(' the ',' ',text)\n",
        "    text=re.sub(' of ',' ',text)\n",
        "    text=re.sub(' and ',' ',text)\n",
        "    text=re.sub(' a ',' ',text)\n",
        "    text=re.sub(' in ',' ',text)\n",
        "    text=re.sub(' to ',' ',text)\n",
        "    text=re.sub(' with ',' ',text)\n",
        "    text=re.sub(' for ',' ',text)\n",
        "    text=re.sub(' by ',' ',text)\n",
        "    text=re.sub(' on ',' ',text)\n",
        "    text=re.sub(' as ',' ',text)\n",
        "    text=re.sub(' an ',' ',text)\n",
        "    text=re.sub(' at ',' ',text)\n",
        "    text=re.sub(' we ',' ',text)\n",
        "    text=re.sub(' is ',' ',text)\n",
        "    text=re.sub(' this ',' ',text)\n",
        "    text=re.sub(' are ',' ',text)\n",
        "    text=re.sub(' which ',' ',text)\n",
        "    text=re.sub(' be ',' ',text)\n",
        "    text=re.sub(' it ',' ',text)\n",
        "    text=re.sub(' that ',' ',text)\n",
        "    text=re.sub(' from ',' ',text)\n",
        "    text=re.sub(' can ',' ',text)\n",
        "    text=re.sub(' these ',' ',text)\n",
        "    text=re.sub(' our ',' ',text)\n",
        "    text=re.sub(' has ',' ',text)\n",
        "    text=re.sub(' have ',' ',text)\n",
        "    text=re.sub('.We ','.',text)\n",
        "    text=re.sub('.That ','.',text)\n",
        "    text=re.sub('.The ','.',text)\n",
        "    text=re.sub('.From ','.',text)\n",
        "    text=re.sub('.Our ','.',text)\n",
        "    text=re.sub('.In ','.',text)\n",
        "    text=re.sub('.These ','.',text)\n",
        "    text=re.sub('.This ','.',text)\n",
        "    text=re.sub(',that ',',',text)\n",
        "\n",
        "    # Remove double spaces\n",
        "    text = re.sub(r'\\s\\s', ' ', text)\n",
        "    \n",
        "    return text"
      ],
      "execution_count": 8,
      "outputs": []
    },
    {
      "cell_type": "code",
      "metadata": {
        "colab": {
          "base_uri": "https://localhost:8080/"
        },
        "id": "xJOim_TefQNf",
        "outputId": "ea5e0928-43b4-4b7e-c74d-5d79181fb36c"
      },
      "source": [
        "formatted = []\n",
        "\n",
        "# Iterate through all the original abstracts\n",
        "for a in text['abstracts']:\n",
        "    formatted.append(format_text(a))\n",
        "len(formatted)"
      ],
      "execution_count": 9,
      "outputs": [
        {
          "output_type": "execute_result",
          "data": {
            "text/plain": [
              "4500"
            ]
          },
          "metadata": {
            "tags": []
          },
          "execution_count": 9
        }
      ]
    },
    {
      "cell_type": "code",
      "metadata": {
        "id": "ux4RWD5afT4Y"
      },
      "source": [
        "def make_sequences(texts,\n",
        "                   training_length=50,\n",
        "                   lower=True,\n",
        "                   filters='!\"#$%&()*+,-./:;<=>?@[\\\\]^_`{|}~\\t\\n'):\n",
        "    \"\"\"Turn a set of texts into sequences of integers\"\"\"\n",
        "\n",
        "    # Create the tokenizer object and train on texts\n",
        "    tokenizer = Tokenizer(lower=lower, filters=filters)\n",
        "    tokenizer.fit_on_texts(texts)\n",
        "\n",
        "    # Create look-up dictionaries and reverse look-ups\n",
        "    word_idx = tokenizer.word_index\n",
        "    idx_word = tokenizer.index_word\n",
        "    num_words = len(word_idx) + 1\n",
        "    word_counts = tokenizer.word_counts\n",
        "\n",
        "    print(f'There are {num_words} unique words.')\n",
        "\n",
        "    # Convert text to sequences of integers\n",
        "    features = tokenizer.texts_to_sequences(texts)\n",
        "\n",
        "    categories=[cat1,cat2,cat3]\n",
        "    labels=np.zeros((len(text),len(categories)))\n",
        "    for i in range(len(text)):\n",
        "      ind=categories.index(text.iloc[i,1])\n",
        "      labels[i,ind]=1\n",
        "    return word_idx, idx_word, num_words, word_counts, features,labels\n"
      ],
      "execution_count": 10,
      "outputs": []
    },
    {
      "cell_type": "code",
      "metadata": {
        "colab": {
          "base_uri": "https://localhost:8080/"
        },
        "id": "5n2ArgLDf3qa",
        "outputId": "febc3334-8979-4843-a03c-b55ecc8d7aaa"
      },
      "source": [
        "TRAINING_LENGTH = 50\n",
        "filters = '.,!\"#$%&()*+/:<=>@[\\\\]^_`{|}~\\t\\n'\n",
        "word_idx, idx_word, num_words, word_counts,features,labels = make_sequences(\n",
        "    formatted, TRAINING_LENGTH, lower=True, filters=filters)"
      ],
      "execution_count": 11,
      "outputs": [
        {
          "output_type": "stream",
          "text": [
            "There are 22110 unique words.\n"
          ],
          "name": "stdout"
        }
      ]
    },
    {
      "cell_type": "code",
      "metadata": {
        "colab": {
          "base_uri": "https://localhost:8080/"
        },
        "id": "3BYE9ApBkX_Z",
        "outputId": "4278d3d4-dd0c-4cd0-b73e-06ec481817a2"
      },
      "source": [
        "labels"
      ],
      "execution_count": 12,
      "outputs": [
        {
          "output_type": "execute_result",
          "data": {
            "text/plain": [
              "array([[1., 0., 0.],\n",
              "       [1., 0., 0.],\n",
              "       [1., 0., 0.],\n",
              "       ...,\n",
              "       [0., 0., 1.],\n",
              "       [0., 0., 1.],\n",
              "       [0., 0., 1.]])"
            ]
          },
          "metadata": {
            "tags": []
          },
          "execution_count": 12
        }
      ]
    },
    {
      "cell_type": "code",
      "metadata": {
        "id": "vZapiM5oFLCY"
      },
      "source": [
        "#max_len=max([len(i) for i in features])\n",
        "pad = len(max(features, key=len))\n",
        "features=[i + [0]*(pad-len(i)) for i in features]"
      ],
      "execution_count": 13,
      "outputs": []
    },
    {
      "cell_type": "code",
      "metadata": {
        "id": "ZMWBMG9xuPJC"
      },
      "source": [
        "features1=np.array(features)"
      ],
      "execution_count": 14,
      "outputs": []
    },
    {
      "cell_type": "code",
      "metadata": {
        "id": "ebHYFmyOw5SP"
      },
      "source": [
        "X_input=np.zeros([3000,len(features[0])])\n",
        "X_input[0:1000,:]=features1[0:1000,:]\n",
        "X_input[1000:2000]=features1[1500:2500,:]\n",
        "X_input[2000:3000]=features1[3000:4000,:]\n",
        "#X_input[3000:4000]=features1[4500:5500,:]\n",
        "#X_input[4000:5000]=features1[6000:7000,:]"
      ],
      "execution_count": 15,
      "outputs": []
    },
    {
      "cell_type": "code",
      "metadata": {
        "id": "_WNNnCoPtgik"
      },
      "source": [
        "X_test=np.zeros([1500,len(features[0])])\n",
        "X_test[0:500,:]=features1[1000:1500,:]\n",
        "X_test[500:1000]=features1[2500:3000,:]\n",
        "X_test[1000:1500]=features1[4000:4500,:]\n",
        "#X_test[1500:2000]=features1[5500:6000,:]\n",
        "#X_test[2000:2500]=features1[7000:7500,:]"
      ],
      "execution_count": 16,
      "outputs": []
    },
    {
      "cell_type": "code",
      "metadata": {
        "id": "PR-xo5_Vts93"
      },
      "source": [
        "y_input=np.zeros([3000,3])\n",
        "y_input[0:1000,:]=labels[0:1000,:]\n",
        "y_input[1000:2000]=labels[1500:2500,:]\n",
        "y_input[2000:3000]=labels[3000:4000,:]\n",
        "#y_input[3000:4000]=labels[4500:5500,:]\n",
        "#y_input[4000:5000]=labels[6000:7000,:]"
      ],
      "execution_count": 17,
      "outputs": []
    },
    {
      "cell_type": "code",
      "metadata": {
        "id": "gMjHoUhqxwcv"
      },
      "source": [
        "y_test=np.zeros([1500,3])\n",
        "y_test[0:500,:]=labels[1000:1500,:]\n",
        "y_test[500:1000]=labels[2500:3000,:]\n",
        "y_test[1000:1500]=labels[4000:4500,:]\n",
        "#y_test[1500:2000]=labels[5500:6000,:]\n",
        "#y_test[2000:2500]=labels[7000:7500,:]"
      ],
      "execution_count": 18,
      "outputs": []
    },
    {
      "cell_type": "code",
      "metadata": {
        "id": "cFianImasgNl"
      },
      "source": [
        "from sklearn.utils import shuffle\n",
        "\n",
        "\n",
        "def create_train_valid(features,\n",
        "                       labels,\n",
        "                       train_fraction=TRAIN_FRACTION):\n",
        "    \"\"\"Create training and validation features and labels.\"\"\"\n",
        "\n",
        "    # Randomly shuffle features and labels\n",
        "    features, labels = shuffle(features, labels, random_state=RANDOM_STATE)\n",
        "\n",
        "    # Decide on number of samples for training\n",
        "    train_end = int(train_fraction * len(labels))\n",
        "\n",
        "    train_features = np.array(features[:train_end])\n",
        "    valid_features = np.array(features[train_end:])\n",
        "\n",
        "    train_labels = labels[:train_end]\n",
        "    valid_labels = labels[train_end:]\n",
        "\n",
        "    # Convert to arrays\n",
        "    X_train, X_valid = np.array(train_features), np.array(valid_features)\n",
        "    y_train, y_valid = np.array(train_labels), np.array(valid_labels)\n",
        "\n",
        "    # Memory management\n",
        "    import gc\n",
        "    gc.enable()\n",
        "    del features, train_features, labels, valid_features, train_labels, valid_labels\n",
        "    gc.collect()\n",
        "\n",
        "    return X_train, X_valid, y_train, y_valid"
      ],
      "execution_count": 19,
      "outputs": []
    },
    {
      "cell_type": "code",
      "metadata": {
        "colab": {
          "base_uri": "https://localhost:8080/"
        },
        "id": "r0peh1DWtbYH",
        "outputId": "948cbace-6400-4650-e374-47133bfeac4e"
      },
      "source": [
        "X_train, X_valid, y_train, y_valid = create_train_valid(\n",
        "    X_input, y_input)\n",
        "y_train.shape"
      ],
      "execution_count": 20,
      "outputs": [
        {
          "output_type": "execute_result",
          "data": {
            "text/plain": [
              "(2100, 3)"
            ]
          },
          "metadata": {
            "tags": []
          },
          "execution_count": 20
        }
      ]
    },
    {
      "cell_type": "code",
      "metadata": {
        "colab": {
          "base_uri": "https://localhost:8080/"
        },
        "id": "2lUEtBKFuJJq",
        "outputId": "a01e3d4a-f2bc-48cf-d38d-87b065bffaf6"
      },
      "source": [
        "glove=np.loadtxt('/content/drive/My Drive/M4R/glove.6B.100d.txt',dtype='str', comments=None)\n",
        "glove.shape"
      ],
      "execution_count": 21,
      "outputs": [
        {
          "output_type": "execute_result",
          "data": {
            "text/plain": [
              "(400000, 101)"
            ]
          },
          "metadata": {
            "tags": []
          },
          "execution_count": 21
        }
      ]
    },
    {
      "cell_type": "code",
      "metadata": {
        "id": "Xpp0cJNyuOOb"
      },
      "source": [
        "vectors = glove[:, 1:].astype('float')\n",
        "words = glove[:, 0]\n",
        "\n",
        "del glove"
      ],
      "execution_count": 22,
      "outputs": []
    },
    {
      "cell_type": "code",
      "metadata": {
        "id": "0I90tWTduVVF",
        "colab": {
          "base_uri": "https://localhost:8080/"
        },
        "outputId": "39133b6b-fd1e-417e-c6f0-205c97dae98c"
      },
      "source": [
        "word_lookup = {word: vector for word, vector in zip(words, vectors)}\n",
        "\n",
        "embedding_matrix = np.zeros((num_words, vectors.shape[1]))\n",
        "\n",
        "not_found = 0\n",
        "\n",
        "for i, word in enumerate(word_idx.keys()):\n",
        "    # Look up the word embedding\n",
        "    vector = word_lookup.get(word, None)\n",
        "\n",
        "    # Record in matrix\n",
        "    if vector is not None:\n",
        "        embedding_matrix[i + 1, :] = vector\n",
        "    else:\n",
        "        not_found += 1\n",
        "\n",
        "print(f'There were {not_found} words without pre-trained embeddings.')"
      ],
      "execution_count": 23,
      "outputs": [
        {
          "output_type": "stream",
          "text": [
            "There were 9126 words without pre-trained embeddings.\n"
          ],
          "name": "stdout"
        }
      ]
    },
    {
      "cell_type": "code",
      "metadata": {
        "id": "HLvzmm1cuY3D",
        "colab": {
          "base_uri": "https://localhost:8080/"
        },
        "outputId": "ac4fbdf5-7c5c-46fe-82fe-ebb79c1bbbdb"
      },
      "source": [
        "import gc\n",
        "gc.enable()\n",
        "del vectors\n",
        "gc.collect()"
      ],
      "execution_count": 24,
      "outputs": [
        {
          "output_type": "execute_result",
          "data": {
            "text/plain": [
              "150"
            ]
          },
          "metadata": {
            "tags": []
          },
          "execution_count": 24
        }
      ]
    },
    {
      "cell_type": "code",
      "metadata": {
        "colab": {
          "base_uri": "https://localhost:8080/"
        },
        "id": "bqkaoBQrucAV",
        "outputId": "06959b2b-1ab7-4c38-ac12-b8879dfceb7d"
      },
      "source": [
        "# Normalize and convert nan to 0\n",
        "embedding_matrix = embedding_matrix / \\\n",
        "    np.linalg.norm(embedding_matrix, axis=1).reshape((-1, 1))\n",
        "embedding_matrix = np.nan_to_num(embedding_matrix)"
      ],
      "execution_count": 25,
      "outputs": [
        {
          "output_type": "stream",
          "text": [
            "/usr/local/lib/python3.7/dist-packages/ipykernel_launcher.py:2: RuntimeWarning: invalid value encountered in true_divide\n",
            "  \n"
          ],
          "name": "stderr"
        }
      ]
    },
    {
      "cell_type": "code",
      "metadata": {
        "id": "G3dn_LTQAEiz"
      },
      "source": [
        "from keras.models import Sequential, load_model\n",
        "from keras.layers import LSTM, Dense, Dropout, Embedding, Masking, Bidirectional\n",
        "from keras.optimizers import Adam\n",
        "\n",
        "#from keras.utils import plot_model"
      ],
      "execution_count": 26,
      "outputs": []
    },
    {
      "cell_type": "code",
      "metadata": {
        "colab": {
          "base_uri": "https://localhost:8080/"
        },
        "id": "v01BrdD2_As2",
        "outputId": "d849a65c-335b-4caf-d073-1182590916ca"
      },
      "source": [
        "def make_word_level_model(embedding_matrix,\n",
        "                          lstm_cells=64,\n",
        "                          trainable=False,\n",
        "                          lstm_layers=1,\n",
        "                          bi_direc=False):\n",
        "    \"\"\"Make a word level recurrent neural network with option for pretrained embeddings\n",
        "       and varying numbers of LSTM cell layers.\"\"\"\n",
        "\n",
        "    model = Sequential()\n",
        "\n",
        "    # Map words to an embedding\n",
        "    if not trainable:\n",
        "        model.add(\n",
        "            Embedding(\n",
        "                input_dim=num_words,\n",
        "                output_dim=embedding_matrix.shape[1],\n",
        "                weights=[embedding_matrix],\n",
        "                trainable=False,\n",
        "                mask_zero=True))\n",
        "        model.add(Masking())\n",
        "    else:\n",
        "        model.add(\n",
        "            Embedding(\n",
        "                input_dim=num_words,\n",
        "                output_dim=embedding_matrix.shape[1],\n",
        "                weights=[embedding_matrix],\n",
        "                trainable=True))\n",
        "\n",
        "    # If want to add multiple LSTM layers\n",
        "    if lstm_layers > 1:\n",
        "        for i in range(lstm_layers - 1):\n",
        "            model.add(\n",
        "                LSTM(\n",
        "                    lstm_cells,\n",
        "                    return_sequences=True,\n",
        "                    dropout=0.1,\n",
        "                    recurrent_dropout=0.1))\n",
        "\n",
        "    # Add final LSTM cell layer\n",
        "    if bi_direc:\n",
        "        model.add(\n",
        "            Bidirectional(\n",
        "                LSTM(\n",
        "                    lstm_cells,\n",
        "                    return_sequences=False,\n",
        "                    dropout=0.1,\n",
        "                    recurrent_dropout=0.1)))\n",
        "    else:\n",
        "        model.add(\n",
        "            LSTM(\n",
        "                lstm_cells,\n",
        "                return_sequences=False,\n",
        "                dropout=0.1,\n",
        "                recurrent_dropout=0.1))\n",
        "    model.add(Dense(128, activation='relu'))\n",
        "    # Dropout for regularization\n",
        "    model.add(Dropout(0.5))\n",
        "\n",
        "    # Output layer\n",
        "    model.add(Dense(len(labels[0]), activation='softmax'))\n",
        "\n",
        "    # Compile the model\n",
        "    model.compile(\n",
        "        optimizer='adam',\n",
        "        loss='categorical_crossentropy',\n",
        "        metrics=['accuracy'])\n",
        "    return model\n",
        "\n",
        "\n",
        "model = make_word_level_model(\n",
        "    embedding_matrix=embedding_matrix,\n",
        "    lstm_cells=LSTM_CELLS,\n",
        "    trainable=False,\n",
        "    lstm_layers=2,\n",
        "    bi_direc=False)\n",
        "model.summary()"
      ],
      "execution_count": 27,
      "outputs": [
        {
          "output_type": "stream",
          "text": [
            "Model: \"sequential\"\n",
            "_________________________________________________________________\n",
            "Layer (type)                 Output Shape              Param #   \n",
            "=================================================================\n",
            "embedding (Embedding)        (None, None, 100)         2211000   \n",
            "_________________________________________________________________\n",
            "masking (Masking)            (None, None, 100)         0         \n",
            "_________________________________________________________________\n",
            "lstm (LSTM)                  (None, None, 64)          42240     \n",
            "_________________________________________________________________\n",
            "lstm_1 (LSTM)                (None, 64)                33024     \n",
            "_________________________________________________________________\n",
            "dense (Dense)                (None, 128)               8320      \n",
            "_________________________________________________________________\n",
            "dropout (Dropout)            (None, 128)               0         \n",
            "_________________________________________________________________\n",
            "dense_1 (Dense)              (None, 3)                 387       \n",
            "=================================================================\n",
            "Total params: 2,294,971\n",
            "Trainable params: 83,971\n",
            "Non-trainable params: 2,211,000\n",
            "_________________________________________________________________\n"
          ],
          "name": "stdout"
        }
      ]
    },
    {
      "cell_type": "code",
      "metadata": {
        "id": "DFNeVWZRAS4C"
      },
      "source": [
        "from IPython.display import Image\n",
        "model_name = 'pre-trained-rnn'\n",
        "model_dir = '../models/'\n",
        "\n",
        "#plot_model(model,show_shapes=True)"
      ],
      "execution_count": 28,
      "outputs": []
    },
    {
      "cell_type": "code",
      "metadata": {
        "id": "lkhXSSeDAWgy"
      },
      "source": [
        "from keras.callbacks import EarlyStopping, ModelCheckpoint\n",
        "\n",
        "\n",
        "\n",
        "def make_callbacks(model_name, save=SAVE_MODEL):\n",
        "    \"\"\"Make list of callbacks for training\"\"\"\n",
        "    callbacks = [EarlyStopping(monitor='val_loss', patience=5)]\n",
        "\n",
        "    if save:\n",
        "        callbacks.append(\n",
        "            ModelCheckpoint(\n",
        "                f'/content/drive/My Drive/M4R/3cat642layeredery.h5',\n",
        "                save_best_only=True,\n",
        "                save_weights_only=False))\n",
        "    return callbacks\n",
        "\n",
        "\n",
        "callbacks = make_callbacks(model_name,SAVE_MODEL)"
      ],
      "execution_count": 40,
      "outputs": []
    },
    {
      "cell_type": "code",
      "metadata": {
        "colab": {
          "base_uri": "https://localhost:8080/"
        },
        "id": "QsZk4oM_AY5R",
        "outputId": "b19a3f24-fe83-46c0-82c2-29ddd895fb9e"
      },
      "source": [
        "history = model.fit(\n",
        "    X_train,\n",
        "    y_train,\n",
        "    epochs=EPOCHS,\n",
        "    batch_size=BATCH_SIZE,\n",
        "    verbose=VERBOSE,\n",
        "    callbacks=callbacks,\n",
        "    validation_data=(X_valid, y_valid))"
      ],
      "execution_count": 30,
      "outputs": [
        {
          "output_type": "stream",
          "text": [
            "Epoch 1/15\n",
            "9/9 [==============================] - 59s 3s/step - loss: 1.0897 - accuracy: 0.4318 - val_loss: 1.0177 - val_accuracy: 0.6067\n",
            "Epoch 2/15\n",
            "9/9 [==============================] - 27s 3s/step - loss: 0.9559 - accuracy: 0.5920 - val_loss: 0.8011 - val_accuracy: 0.6044\n",
            "Epoch 3/15\n",
            "9/9 [==============================] - 28s 3s/step - loss: 0.7846 - accuracy: 0.6332 - val_loss: 0.6817 - val_accuracy: 0.7233\n",
            "Epoch 4/15\n",
            "9/9 [==============================] - 28s 3s/step - loss: 0.6928 - accuracy: 0.7095 - val_loss: 0.6662 - val_accuracy: 0.7100\n",
            "Epoch 5/15\n",
            "9/9 [==============================] - 28s 3s/step - loss: 0.6570 - accuracy: 0.7157 - val_loss: 0.5905 - val_accuracy: 0.7344\n",
            "Epoch 6/15\n",
            "9/9 [==============================] - 28s 3s/step - loss: 0.6357 - accuracy: 0.7337 - val_loss: 0.5461 - val_accuracy: 0.7811\n",
            "Epoch 7/15\n",
            "9/9 [==============================] - 28s 3s/step - loss: 0.5646 - accuracy: 0.7857 - val_loss: 0.5246 - val_accuracy: 0.7822\n",
            "Epoch 8/15\n",
            "9/9 [==============================] - 28s 3s/step - loss: 0.5419 - accuracy: 0.7943 - val_loss: 0.4969 - val_accuracy: 0.8022\n",
            "Epoch 9/15\n",
            "9/9 [==============================] - 28s 3s/step - loss: 0.5004 - accuracy: 0.8128 - val_loss: 0.4374 - val_accuracy: 0.8256\n",
            "Epoch 10/15\n",
            "9/9 [==============================] - 28s 3s/step - loss: 0.4618 - accuracy: 0.8405 - val_loss: 0.4218 - val_accuracy: 0.8456\n",
            "Epoch 11/15\n",
            "9/9 [==============================] - 28s 3s/step - loss: 0.4295 - accuracy: 0.8549 - val_loss: 0.3846 - val_accuracy: 0.8667\n",
            "Epoch 12/15\n",
            "9/9 [==============================] - 28s 3s/step - loss: 0.4068 - accuracy: 0.8614 - val_loss: 0.3567 - val_accuracy: 0.8711\n",
            "Epoch 13/15\n",
            "9/9 [==============================] - 28s 3s/step - loss: 0.3950 - accuracy: 0.8647 - val_loss: 0.3854 - val_accuracy: 0.8678\n",
            "Epoch 14/15\n",
            "9/9 [==============================] - 28s 3s/step - loss: 0.5292 - accuracy: 0.8042 - val_loss: 0.4797 - val_accuracy: 0.8200\n",
            "Epoch 15/15\n",
            "9/9 [==============================] - 28s 3s/step - loss: 0.4500 - accuracy: 0.8466 - val_loss: 0.5346 - val_accuracy: 0.7933\n"
          ],
          "name": "stdout"
        }
      ]
    },
    {
      "cell_type": "code",
      "metadata": {
        "id": "4oK8UN_AenvH"
      },
      "source": [
        "def load_and_evaluate(model_name, return_model=False):\n",
        "    \"\"\"Load in a trained model and evaluate with log loss and accuracy\"\"\"\n",
        "\n",
        "    model = load_model(f'/content/drive/My Drive/M4R/3cat642layeredery.h5')\n",
        "\n",
        "    loss, acc = model.evaluate(X_valid, y_valid, batch_size=BATCH_SIZE, verbose=1)\n",
        "    print('Test Loss: {}'.format(loss))\n",
        "    print('Test Accuracy: {}'.format(acc*100))\n",
        "\n",
        "    test_loss, test_acc = model.evaluate(X_test, y_test, batch_size=BATCH_SIZE, verbose=1)\n",
        "    print('Test Loss: {}'.format(test_loss))\n",
        "    print('Test Accuracy: {}'.format(test_acc*100))\n",
        "\n",
        "    if return_model:\n",
        "        return model"
      ],
      "execution_count": 41,
      "outputs": []
    },
    {
      "cell_type": "code",
      "metadata": {
        "id": "oBUUiTnIe4ag",
        "colab": {
          "base_uri": "https://localhost:8080/"
        },
        "outputId": "b4e25dd1-8929-4ae6-fc90-06f37584ce3b"
      },
      "source": [
        "model = load_and_evaluate(model_name, return_model=True)"
      ],
      "execution_count": 42,
      "outputs": [
        {
          "output_type": "stream",
          "text": [
            "4/4 [==============================] - 4s 418ms/step - loss: 0.3401 - accuracy: 0.8900\n",
            "Test Loss: 0.34011638164520264\n",
            "Test Accuracy: 88.99999856948853\n",
            "6/6 [==============================] - 3s 477ms/step - loss: 0.3330 - accuracy: 0.8807\n",
            "Test Loss: 0.33295348286628723\n",
            "Test Accuracy: 88.06666731834412\n"
          ],
          "name": "stdout"
        }
      ]
    },
    {
      "cell_type": "code",
      "metadata": {
        "id": "6X4KyqU2gZt0"
      },
      "source": [
        "import matplotlib.pyplot as plt\n",
        "\n",
        "def plot_graphs(history, metric):\n",
        "  plt.plot(history.history[metric])\n",
        "  plt.plot(history.history['val_'+metric], '')\n",
        "  plt.xlabel(\"Epochs\")\n",
        "  plt.ylabel(metric)\n",
        "  plt.legend([metric, 'val_'+metric])"
      ],
      "execution_count": 33,
      "outputs": []
    },
    {
      "cell_type": "code",
      "metadata": {
        "id": "fxo86BnzgYdI",
        "colab": {
          "base_uri": "https://localhost:8080/",
          "height": 519
        },
        "outputId": "d29735eb-18f0-4fa9-a54a-c92f6f244a02"
      },
      "source": [
        "plt.figure(figsize=(16,8))\n",
        "plt.subplot(1,2,1)\n",
        "plot_graphs(history, 'accuracy')\n",
        "plt.ylim(None,1)\n",
        "plt.subplot(1,2,2)\n",
        "plot_graphs(history, 'loss')\n",
        "plt.ylim(0,None)"
      ],
      "execution_count": 34,
      "outputs": [
        {
          "output_type": "execute_result",
          "data": {
            "text/plain": [
              "(0.0, 1.117005616426468)"
            ]
          },
          "metadata": {
            "tags": []
          },
          "execution_count": 34
        },
        {
          "output_type": "display_data",
          "data": {
            "image/png": "[encoded data removed]",
            "text/plain": [
              "<Figure size 1152x576 with 2 Axes>"
            ]
          },
          "metadata": {
            "tags": [],
            "needs_background": "light"
          }
        }
      ]
    }
  ]
}