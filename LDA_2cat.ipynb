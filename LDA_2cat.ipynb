{
  "nbformat": 4,
  "nbformat_minor": 0,
  "metadata": {
    "accelerator": "GPU",
    "colab": {
      "name": "Copy of LDA2cat.ipynb",
      "provenance": [],
      "authorship_tag": "ABX9TyOm6rug300Gqd98vXnQ7hJJ",
      "include_colab_link": true
    },
    "kernelspec": {
      "display_name": "Python 3",
      "name": "python3"
    }
  },
  "cells": [
    {
      "cell_type": "markdown",
      "metadata": {
        "id": "view-in-github",
        "colab_type": "text"
      },
      "source": [
        "<a href=\"https://colab.research.google.com/github/ZhongyuGuo/M4R/blob/main/LDA_2cat.ipynb\" target=\"_parent\"><img src=\"https://colab.research.google.com/assets/colab-badge.svg\" alt=\"Open In Colab\"/></a>"
      ]
    },
    {
      "cell_type": "code",
      "metadata": {
        "id": "yXNbDHdsc2f3"
      },
      "source": [
        "import tensorflow as tf\n",
        "import numpy as np\n",
        "import pandas as pd\n",
        "import re\n",
        "import random\n",
        "import torch\n",
        "from sklearn.model_selection import GridSearchCV\n",
        "from sklearn.feature_extraction.text import CountVectorizer\n",
        "from sklearn.decomposition import LatentDirichletAllocation\n",
        "import matplotlib.pyplot as plt"
      ],
      "execution_count": 1,
      "outputs": []
    },
    {
      "cell_type": "code",
      "metadata": {
        "colab": {
          "base_uri": "https://localhost:8080/"
        },
        "id": "Sm4yNcvfc-f4",
        "outputId": "c7cec803-c50a-4123-8d88-589694f154dd"
      },
      "source": [
        "from google.colab import drive\n",
        "drive.mount(\"/content/drive\")\n",
        "df=pd.read_csv(\"/content/drive/My Drive/M4R/papers2019_200000.csv\")"
      ],
      "execution_count": 2,
      "outputs": [
        {
          "output_type": "stream",
          "text": [
            "Drive already mounted at /content/drive; to attempt to forcibly remount, call drive.mount(\"/content/drive\", force_remount=True).\n"
          ],
          "name": "stdout"
        }
      ]
    },
    {
      "cell_type": "code",
      "metadata": {
        "id": "LIWYn7om2HMC"
      },
      "source": [
        "# List of categories\n",
        "catlist=['math','cs','quant-ph','hep-ex','hep-th','astro-ph','nucl-ex','nucl-th']"
      ],
      "execution_count": 3,
      "outputs": []
    },
    {
      "cell_type": "code",
      "metadata": {
        "id": "wwHvYNTWQvjK"
      },
      "source": [
        "# Categories to classify\n",
        "cat1=catlist[0]\n",
        "cat2=catlist[1]"
      ],
      "execution_count": 4,
      "outputs": []
    },
    {
      "cell_type": "code",
      "metadata": {
        "id": "GIoQgW_eeIs8"
      },
      "source": [
        "# Obtain corresponding abstarcts\n",
        "df1=df[df['categories']==cat1][0:1500].reset_index(drop=True)\n",
        "df2=df[df['categories']==cat2][0:1500].reset_index(drop=True)\n",
        "text=df1.append(df2).reset_index(drop=True)\n",
        "df3=df[df['categories']==cat1][1000:1500].reset_index(drop=True)\n",
        "df4=df[df['categories']==cat2][1000:1500].reset_index(drop=True)\n",
        "X_test=df3.append(df4).reset_index(drop=True)\n",
        "#Prepare a column of labels\n",
        "list1=np.zeros(1500)\n",
        "list2=np.ones(1500)\n",
        "y=np.append(list1,list2)\n",
        "text['y']=y\n",
        "text=text.sample(frac=1).reset_index(drop=True)"
      ],
      "execution_count": 5,
      "outputs": []
    },
    {
      "cell_type": "code",
      "metadata": {
        "colab": {
          "base_uri": "https://localhost:8080/",
          "height": 407
        },
        "id": "sbYI0cJ8rDo1",
        "outputId": "fa4e5943-2e3b-4982-e9bd-067bb9bffe14"
      },
      "source": [
        "text"
      ],
      "execution_count": 6,
      "outputs": [
        {
          "output_type": "execute_result",
          "data": {
            "text/html": [
              "<div>\n",
              "<style scoped>\n",
              "    .dataframe tbody tr th:only-of-type {\n",
              "        vertical-align: middle;\n",
              "    }\n",
              "\n",
              "    .dataframe tbody tr th {\n",
              "        vertical-align: top;\n",
              "    }\n",
              "\n",
              "    .dataframe thead th {\n",
              "        text-align: right;\n",
              "    }\n",
              "</style>\n",
              "<table border=\"1\" class=\"dataframe\">\n",
              "  <thead>\n",
              "    <tr style=\"text-align: right;\">\n",
              "      <th></th>\n",
              "      <th>Unnamed: 0</th>\n",
              "      <th>categories</th>\n",
              "      <th>abstracts</th>\n",
              "      <th>year</th>\n",
              "      <th>y</th>\n",
              "    </tr>\n",
              "  </thead>\n",
              "  <tbody>\n",
              "    <tr>\n",
              "      <th>0</th>\n",
              "      <td>2902</td>\n",
              "      <td>math</td>\n",
              "      <td>We describe an algorithm for enumerating the...</td>\n",
              "      <td>2019</td>\n",
              "      <td>0.0</td>\n",
              "    </tr>\n",
              "    <tr>\n",
              "      <th>1</th>\n",
              "      <td>1</td>\n",
              "      <td>math</td>\n",
              "      <td>Cofibrations are defined in the category of ...</td>\n",
              "      <td>2019</td>\n",
              "      <td>0.0</td>\n",
              "    </tr>\n",
              "    <tr>\n",
              "      <th>2</th>\n",
              "      <td>14570</td>\n",
              "      <td>cs</td>\n",
              "      <td>Object detection and segmentation represents...</td>\n",
              "      <td>2019</td>\n",
              "      <td>1.0</td>\n",
              "    </tr>\n",
              "    <tr>\n",
              "      <th>3</th>\n",
              "      <td>21287</td>\n",
              "      <td>cs</td>\n",
              "      <td>This paper proposes a fusion-based gender re...</td>\n",
              "      <td>2019</td>\n",
              "      <td>1.0</td>\n",
              "    </tr>\n",
              "    <tr>\n",
              "      <th>4</th>\n",
              "      <td>7023</td>\n",
              "      <td>cs</td>\n",
              "      <td>This paper revisits the solution of the word...</td>\n",
              "      <td>2019</td>\n",
              "      <td>1.0</td>\n",
              "    </tr>\n",
              "    <tr>\n",
              "      <th>...</th>\n",
              "      <td>...</td>\n",
              "      <td>...</td>\n",
              "      <td>...</td>\n",
              "      <td>...</td>\n",
              "      <td>...</td>\n",
              "    </tr>\n",
              "    <tr>\n",
              "      <th>2995</th>\n",
              "      <td>4171</td>\n",
              "      <td>math</td>\n",
              "      <td>We introduce the concept of topological radi...</td>\n",
              "      <td>2019</td>\n",
              "      <td>0.0</td>\n",
              "    </tr>\n",
              "    <tr>\n",
              "      <th>2996</th>\n",
              "      <td>7613</td>\n",
              "      <td>math</td>\n",
              "      <td>Given a reduced alternating diagram for a li...</td>\n",
              "      <td>2019</td>\n",
              "      <td>0.0</td>\n",
              "    </tr>\n",
              "    <tr>\n",
              "      <th>2997</th>\n",
              "      <td>7715</td>\n",
              "      <td>math</td>\n",
              "      <td>Let $f$ be a generically finite polynomial m...</td>\n",
              "      <td>2019</td>\n",
              "      <td>0.0</td>\n",
              "    </tr>\n",
              "    <tr>\n",
              "      <th>2998</th>\n",
              "      <td>147</td>\n",
              "      <td>math</td>\n",
              "      <td>In this article, we will prove Riemann Hypot...</td>\n",
              "      <td>2019</td>\n",
              "      <td>0.0</td>\n",
              "    </tr>\n",
              "    <tr>\n",
              "      <th>2999</th>\n",
              "      <td>2521</td>\n",
              "      <td>math</td>\n",
              "      <td>Given a prime q and a negative discriminant ...</td>\n",
              "      <td>2019</td>\n",
              "      <td>0.0</td>\n",
              "    </tr>\n",
              "  </tbody>\n",
              "</table>\n",
              "<p>3000 rows × 5 columns</p>\n",
              "</div>"
            ],
            "text/plain": [
              "      Unnamed: 0 categories  ...  year    y\n",
              "0           2902       math  ...  2019  0.0\n",
              "1              1       math  ...  2019  0.0\n",
              "2          14570         cs  ...  2019  1.0\n",
              "3          21287         cs  ...  2019  1.0\n",
              "4           7023         cs  ...  2019  1.0\n",
              "...          ...        ...  ...   ...  ...\n",
              "2995        4171       math  ...  2019  0.0\n",
              "2996        7613       math  ...  2019  0.0\n",
              "2997        7715       math  ...  2019  0.0\n",
              "2998         147       math  ...  2019  0.0\n",
              "2999        2521       math  ...  2019  0.0\n",
              "\n",
              "[3000 rows x 5 columns]"
            ]
          },
          "metadata": {
            "tags": []
          },
          "execution_count": 6
        }
      ]
    },
    {
      "cell_type": "code",
      "metadata": {
        "id": "rfsuiOZUgM4N"
      },
      "source": [
        "RANDOM_STATE = 50\n",
        "EPOCHS =15\n",
        "BATCH_SIZE = 512\n",
        "TRAINING_LENGTH = 50\n",
        "TRAIN_FRACTION = 0.7\n",
        "LSTM_CELLS = 64\n",
        "VERBOSE = 1\n",
        "SAVE_MODEL = True"
      ],
      "execution_count": 7,
      "outputs": []
    },
    {
      "cell_type": "code",
      "metadata": {
        "id": "vVrzzl8LfLzi"
      },
      "source": [
        "def format_text(text):\n",
        "    \"\"\"Add spaces around punctuation and remove references to images/citations.\"\"\"\n",
        "\n",
        "    # Add spaces around punctuation\n",
        "    text = re.sub(r'(?<=[^\\s0-9])(?=[.,;?])', r' ', text)\n",
        "\n",
        "    # Remove meaningless words\n",
        "    text = re.sub(' the ',' ',text)\n",
        "    text = re.sub(' of ',' ',text)\n",
        "    text = re.sub(' and ',' ',text)\n",
        "    text = re.sub(' a ',' ',text)\n",
        "    text = re.sub(' in ',' ',text)\n",
        "    text = re.sub(' to ',' ',text)\n",
        "    text = re.sub(' with ',' ',text)\n",
        "    text = re.sub(' for ',' ',text)\n",
        "    text = re.sub(' by ',' ',text)\n",
        "    text = re.sub(' on ',' ',text)\n",
        "    text = re.sub(' as ',' ',text)\n",
        "    text = re.sub(' an ',' ',text)\n",
        "    text = re.sub(' at ',' ',text)\n",
        "    text = re.sub(' we ',' ',text)\n",
        "    text = re.sub(' is ',' ',text)\n",
        "    text = re.sub(' this ',' ',text)\n",
        "    text = re.sub(' are ',' ',text)\n",
        "    text = re.sub(' which ',' ',text)\n",
        "    text = re.sub(' be ',' ',text)\n",
        "    text = re.sub(' it ',' ',text)\n",
        "    text = re.sub(' that ',' ',text)\n",
        "    text = re.sub(' from ',' ',text)\n",
        "    text = re.sub(' can ',' ',text)\n",
        "    text = re.sub(' these ',' ',text)\n",
        "    text = re.sub(' our ',' ',text)\n",
        "    text = re.sub(' has ',' ',text)\n",
        "    text = re.sub(' have ',' ',text)\n",
        "    text = re.sub('.We ','.',text)\n",
        "    text = re.sub('.That ','.',text)\n",
        "    text = re.sub('.The ','.',text)\n",
        "    text = re.sub('.From ','.',text)\n",
        "    text = re.sub('.Our ','.',text)\n",
        "    text = re.sub('.In ','.',text)\n",
        "    text = re.sub('.These ','.',text)\n",
        "    text = re.sub('.This ','.',text)\n",
        "    text = re.sub(',that ',',',text)\n",
        "    \n",
        "    # Remove double spaces\n",
        "    text = re.sub(r'\\s\\s', ' ', text)\n",
        "    \n",
        "    return text"
      ],
      "execution_count": 8,
      "outputs": []
    },
    {
      "cell_type": "code",
      "metadata": {
        "id": "xJOim_TefQNf"
      },
      "source": [
        "data_samples = []\n",
        "\n",
        "# Iterate through all the original abstracts\n",
        "for a in text['abstracts']:\n",
        "    data_samples.append(format_text(a))"
      ],
      "execution_count": 9,
      "outputs": []
    },
    {
      "cell_type": "code",
      "metadata": {
        "colab": {
          "base_uri": "https://localhost:8080/"
        },
        "id": "9tCPL4E4JVPj",
        "outputId": "f787f2a6-eeab-44d0-f3c6-9b942a82fc9d"
      },
      "source": [
        "n_components = 2\n",
        "n_top_words = 20\n",
        "\n",
        "# Function to plot the most relevant words\n",
        "def plot_top_words(model, feature_names, n_top_words, title):\n",
        "    fig, axes = plt.subplots(1, 2, figsize=(20, 12), sharex=True)\n",
        "    axes = axes.flatten()\n",
        "    for topic_idx, topic in enumerate(model.components_):\n",
        "        top_features_ind = topic.argsort()[:-n_top_words - 1:-1]\n",
        "        top_features = [feature_names[i] for i in top_features_ind]\n",
        "        weights = topic[top_features_ind]\n",
        "\n",
        "        ax = axes[topic_idx]\n",
        "        ax.barh(top_features, weights, height=0.7)\n",
        "        ax.set_title(f'Topic {topic_idx +1}',\n",
        "                     fontdict={'fontsize': 30})\n",
        "        ax.invert_yaxis()\n",
        "        ax.tick_params(axis='both', which='major', labelsize=20)\n",
        "        for i in 'top right left'.split():\n",
        "            ax.spines[i].set_visible(False)\n",
        "        fig.suptitle(title, fontsize=40)\n",
        "\n",
        "    plt.subplots_adjust(top=0.90, bottom=0.05, wspace=0.90, hspace=0.3)\n",
        "    plt.show()\n",
        "\n",
        "# Use tf (raw term count) features to vectorize the abstacrts for LDA.\n",
        "tf_vectorizer = CountVectorizer(max_df=0.95, min_df=2,stop_words='english')\n",
        "tf = tf_vectorizer.fit_transform(data_samples)\n",
        "\n",
        "# Fit the LDA model\n",
        "lda = LatentDirichletAllocation(n_components=n_components,learning_method='batch',doc_topic_prior=5,topic_word_prior=5)\n",
        "lda.fit(tf)"
      ],
      "execution_count": 10,
      "outputs": [
        {
          "output_type": "execute_result",
          "data": {
            "text/plain": [
              "LatentDirichletAllocation(batch_size=128, doc_topic_prior=5, evaluate_every=-1,\n",
              "                          learning_decay=0.7, learning_method='batch',\n",
              "                          learning_offset=10.0, max_doc_update_iter=100,\n",
              "                          max_iter=10, mean_change_tol=0.001, n_components=2,\n",
              "                          n_jobs=None, perp_tol=0.1, random_state=None,\n",
              "                          topic_word_prior=5, total_samples=1000000.0,\n",
              "                          verbose=0)"
            ]
          },
          "metadata": {
            "tags": []
          },
          "execution_count": 10
        }
      ]
    },
    {
      "cell_type": "code",
      "metadata": {
        "colab": {
          "base_uri": "https://localhost:8080/",
          "height": 860
        },
        "id": "bq4iLXWfg51M",
        "outputId": "5cf11ea9-749c-412c-b537-0059ef987b57"
      },
      "source": [
        "# Plot top words\n",
        "tf_feature_names = tf_vectorizer.get_feature_names()\n",
        "plot_top_words(lda, tf_feature_names, n_top_words, 'Topics in LDA model')"
      ],
      "execution_count": 11,
      "outputs": [
        {
          "output_type": "display_data",
          "data": {
            "image/png": "[encoded data removed]",
            "text/plain": [
              "<Figure size 1440x864 with 2 Axes>"
            ]
          },
          "metadata": {
            "tags": [],
            "needs_background": "light"
          }
        }
      ]
    },
    {
      "cell_type": "code",
      "metadata": {
        "id": "WIPF0W9ZLs-P",
        "colab": {
          "base_uri": "https://localhost:8080/"
        },
        "outputId": "ceec8480-9c02-4650-f7c7-a717799dd536"
      },
      "source": [
        "# Compute test accuracy\n",
        "from sklearn.metrics import accuracy_score\n",
        "prob=lda.transform(tf)\n",
        "pred=prob.argmax(axis=1)\n",
        "acc=accuracy_score(text['y'],pred)\n",
        "print(max(acc,1-acc)*100)"
      ],
      "execution_count": 12,
      "outputs": [
        {
          "output_type": "stream",
          "text": [
            "88.7\n"
          ],
          "name": "stdout"
        }
      ]
    },
    {
      "cell_type": "code",
      "metadata": {
        "id": "m48dlHM1pFN2",
        "colab": {
          "base_uri": "https://localhost:8080/"
        },
        "outputId": "ec49fea8-576b-4c1b-9624-73b29c9c390c"
      },
      "source": [
        "count=0\n",
        "list1=[]\n",
        "for i in range(len(prob)):\n",
        "  list1.append(np.abs(prob[i,0]-prob[i,1]))\n",
        "ind=list1.index(min(list1))\n",
        "print(prob[ind,:])"
      ],
      "execution_count": 13,
      "outputs": [
        {
          "output_type": "stream",
          "text": [
            "[0.50000684 0.49999316]\n"
          ],
          "name": "stdout"
        }
      ]
    },
    {
      "cell_type": "code",
      "metadata": {
        "colab": {
          "base_uri": "https://localhost:8080/"
        },
        "id": "dviNk5cswJqI",
        "outputId": "4e62a025-2c26-48c9-c66e-59ce25907781"
      },
      "source": [
        "print(text.iloc[ind,:])\n",
        "print(text.iloc[ind,:]['abstracts'])"
      ],
      "execution_count": 14,
      "outputs": [
        {
          "output_type": "stream",
          "text": [
            "Unnamed: 0                                                11944\n",
            "categories                                                   cs\n",
            "abstracts       Structure editors allow programmers to edit ...\n",
            "year                                                       2019\n",
            "y                                                             1\n",
            "Name: 514, dtype: object\n",
            "  Structure editors allow programmers to edit the tree structure of a program directly. This can have cognitive benefits, particularly for novice and end-user programmers. It also simplifies matters for tool designers, because they do not need to contend with malformed program text. This paper defines Hazelnut, a structure editor based on a small bidirectionally typed lambda calculus extended with holes and a cursor. Hazelnut goes one step beyond syntactic well-formedness: its edit actions operate over statically meaningful incomplete terms. Naively, this would force the programmer to construct terms in a rigid \"outside-in\" manner. To avoid this problem, the action semantics automatically places terms assigned a type that is inconsistent with the expected type inside a hole. This safely defers the type consistency check until the term inside the hole is finished. Hazelnut is a foundational type-theoretic account of typed structure editing, rather than an end-user tool itself. To that end, we describe how Hazelnut's rich metatheory, which we have mechanized in Agda, guides the definition of an extension to the calculus. We also discuss various plausible evaluation strategies for terms with holes, and in so doing reveal connections with gradual typing and contextual modal type theory, the Curry-Howard interpretation of contextual modal logic. Finally, we discuss how Hazelnut's semantics lends itself to implementation as a functional reactive program. Our reference implementation is written using js_of_ocaml. \n"
          ],
          "name": "stdout"
        }
      ]
    }
  ]
}